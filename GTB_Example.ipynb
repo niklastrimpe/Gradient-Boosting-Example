{
 "cells": [
  {
   "cell_type": "code",
   "execution_count": 50,
   "metadata": {},
   "outputs": [],
   "source": [
    "import pandas as pd\n",
    "import numpy as np\n",
    "\n",
    "from sklearn.metrics import accuracy_score\n",
    "\n",
    "from sklearn.ensemble import GradientBoostingRegressor\n",
    "\n",
    "import matplotlib.pyplot as plt\n",
    "import seaborn as sns"
   ]
  },
  {
   "attachments": {},
   "cell_type": "markdown",
   "metadata": {},
   "source": [
    "Generate the example dataset"
   ]
  },
  {
   "cell_type": "code",
   "execution_count": 51,
   "metadata": {},
   "outputs": [
    {
     "data": {
      "text/plain": [
       "Text(0, 0.5, 'Y')"
      ]
     },
     "execution_count": 51,
     "metadata": {},
     "output_type": "execute_result"
    },
    {
     "data": {
      "image/png": "[encoded data removed]",
      "text/plain": [
       "<Figure size 720x360 with 1 Axes>"
      ]
     },
     "metadata": {
      "needs_background": "light"
     },
     "output_type": "display_data"
    }
   ],
   "source": [
    "mean = 5\n",
    "std = 0.5\n",
    "n = 100\n",
    "\n",
    "x = []\n",
    "y = []\n",
    "\n",
    "np.random.seed(0) # to make random noise reproduceable\n",
    "\n",
    "for i in range(0,n):\n",
    "    x.append(i/5)\n",
    "    # create 5 buckets with noise around different means\n",
    "    if 0 <= i < 20:\n",
    "        y.append(10+np.random.normal(mean, std))\n",
    "    elif 20 <= i < 40:\n",
    "        y.append(15+np.random.normal(mean, std))\n",
    "    elif 40 <= i < 60:\n",
    "        y.append(10+np.random.normal(mean, std))\n",
    "    elif 60 <= i < 80:\n",
    "        y.append(5+np.random.normal(mean, std))\n",
    "    else:\n",
    "        y.append(15+np.random.normal(mean, std))\n",
    "\n",
    "plt.figure(figsize=(10,5))\n",
    "plt.scatter(x=x, y=y, label=\"Beobachtungen\")\n",
    "plt.legend(loc=\"lower left\")\n",
    "plt.xlabel(\"X\")\n",
    "plt.ylabel(\"Y\")"
   ]
  },
  {
   "attachments": {},
   "cell_type": "markdown",
   "metadata": {},
   "source": [
    "Calculate internal values of GTB for first iterations"
   ]
  },
  {
   "cell_type": "code",
   "execution_count": 52,
   "metadata": {},
   "outputs": [
    {
     "data": {
      "text/html": [
       "<div>\n",
       "<style scoped>\n",
       "    .dataframe tbody tr th:only-of-type {\n",
       "        vertical-align: middle;\n",
       "    }\n",
       "\n",
       "    .dataframe tbody tr th {\n",
       "        vertical-align: top;\n",
       "    }\n",
       "\n",
       "    .dataframe thead th {\n",
       "        text-align: right;\n",
       "    }\n",
       "</style>\n",
       "<table border=\"1\" class=\"dataframe\">\n",
       "  <thead>\n",
       "    <tr style=\"text-align: right;\">\n",
       "      <th></th>\n",
       "      <th>x</th>\n",
       "      <th>y</th>\n",
       "      <th>f0</th>\n",
       "      <th>r1</th>\n",
       "      <th>h1</th>\n",
       "      <th>f1</th>\n",
       "    </tr>\n",
       "  </thead>\n",
       "  <tbody>\n",
       "    <tr>\n",
       "      <th>0</th>\n",
       "      <td>0.0</td>\n",
       "      <td>15.88</td>\n",
       "      <td>16.03</td>\n",
       "      <td>-0.15</td>\n",
       "      <td>-1.04</td>\n",
       "      <td>14.98</td>\n",
       "    </tr>\n",
       "    <tr>\n",
       "      <th>1</th>\n",
       "      <td>0.2</td>\n",
       "      <td>15.20</td>\n",
       "      <td>16.03</td>\n",
       "      <td>-0.83</td>\n",
       "      <td>-1.04</td>\n",
       "      <td>14.98</td>\n",
       "    </tr>\n",
       "    <tr>\n",
       "      <th>2</th>\n",
       "      <td>0.4</td>\n",
       "      <td>15.49</td>\n",
       "      <td>16.03</td>\n",
       "      <td>-0.54</td>\n",
       "      <td>-1.04</td>\n",
       "      <td>14.98</td>\n",
       "    </tr>\n",
       "    <tr>\n",
       "      <th>3</th>\n",
       "      <td>0.6</td>\n",
       "      <td>16.12</td>\n",
       "      <td>16.03</td>\n",
       "      <td>0.09</td>\n",
       "      <td>-1.04</td>\n",
       "      <td>14.98</td>\n",
       "    </tr>\n",
       "    <tr>\n",
       "      <th>4</th>\n",
       "      <td>0.8</td>\n",
       "      <td>15.93</td>\n",
       "      <td>16.03</td>\n",
       "      <td>-0.10</td>\n",
       "      <td>-1.04</td>\n",
       "      <td>14.98</td>\n",
       "    </tr>\n",
       "    <tr>\n",
       "      <th>...</th>\n",
       "      <td>...</td>\n",
       "      <td>...</td>\n",
       "      <td>...</td>\n",
       "      <td>...</td>\n",
       "      <td>...</td>\n",
       "      <td>...</td>\n",
       "    </tr>\n",
       "    <tr>\n",
       "      <th>95</th>\n",
       "      <td>19.0</td>\n",
       "      <td>20.35</td>\n",
       "      <td>16.03</td>\n",
       "      <td>4.32</td>\n",
       "      <td>4.18</td>\n",
       "      <td>20.21</td>\n",
       "    </tr>\n",
       "    <tr>\n",
       "      <th>96</th>\n",
       "      <td>19.2</td>\n",
       "      <td>20.01</td>\n",
       "      <td>16.03</td>\n",
       "      <td>3.98</td>\n",
       "      <td>4.18</td>\n",
       "      <td>20.21</td>\n",
       "    </tr>\n",
       "    <tr>\n",
       "      <th>97</th>\n",
       "      <td>19.4</td>\n",
       "      <td>20.89</td>\n",
       "      <td>16.03</td>\n",
       "      <td>4.86</td>\n",
       "      <td>4.18</td>\n",
       "      <td>20.21</td>\n",
       "    </tr>\n",
       "    <tr>\n",
       "      <th>98</th>\n",
       "      <td>19.6</td>\n",
       "      <td>20.06</td>\n",
       "      <td>16.03</td>\n",
       "      <td>4.03</td>\n",
       "      <td>4.18</td>\n",
       "      <td>20.21</td>\n",
       "    </tr>\n",
       "    <tr>\n",
       "      <th>99</th>\n",
       "      <td>19.8</td>\n",
       "      <td>20.20</td>\n",
       "      <td>16.03</td>\n",
       "      <td>4.17</td>\n",
       "      <td>4.18</td>\n",
       "      <td>20.21</td>\n",
       "    </tr>\n",
       "  </tbody>\n",
       "</table>\n",
       "<p>100 rows × 6 columns</p>\n",
       "</div>"
      ],
      "text/plain": [
       "       x      y     f0    r1    h1     f1\n",
       "0    0.0  15.88  16.03 -0.15 -1.04  14.98\n",
       "1    0.2  15.20  16.03 -0.83 -1.04  14.98\n",
       "2    0.4  15.49  16.03 -0.54 -1.04  14.98\n",
       "3    0.6  16.12  16.03  0.09 -1.04  14.98\n",
       "4    0.8  15.93  16.03 -0.10 -1.04  14.98\n",
       "..   ...    ...    ...   ...   ...    ...\n",
       "95  19.0  20.35  16.03  4.32  4.18  20.21\n",
       "96  19.2  20.01  16.03  3.98  4.18  20.21\n",
       "97  19.4  20.89  16.03  4.86  4.18  20.21\n",
       "98  19.6  20.06  16.03  4.03  4.18  20.21\n",
       "99  19.8  20.20  16.03  4.17  4.18  20.21\n",
       "\n",
       "[100 rows x 6 columns]"
      ]
     },
     "execution_count": 52,
     "metadata": {},
     "output_type": "execute_result"
    }
   ],
   "source": [
    "df = pd.DataFrame({\"x\": x, \"y\": y})\n",
    "df[\"f0\"] = df[\"y\"].mean()\n",
    "df[\"r1\"] = df[\"y\"] - df[\"f0\"]\n",
    "df[\"h1\"] = np.where(df[\"x\"] <= 15.9, -1.045, 4.181)\n",
    "df[\"f1\"] = df[\"f0\"] + df[\"h1\"]\n",
    "df.round(2)"
   ]
  },
  {
   "attachments": {},
   "cell_type": "markdown",
   "metadata": {},
   "source": [
    "Plot first simple model f_0"
   ]
  },
  {
   "cell_type": "code",
   "execution_count": 53,
   "metadata": {},
   "outputs": [
    {
     "data": {
      "text/plain": [
       "Text(0, 0.5, 'Y')"
      ]
     },
     "execution_count": 53,
     "metadata": {},
     "output_type": "execute_result"
    },
    {
     "data": {
      "image/png": "[encoded data removed]",
      "text/plain": [
       "<Figure size 720x360 with 1 Axes>"
      ]
     },
     "metadata": {
      "needs_background": "light"
     },
     "output_type": "display_data"
    }
   ],
   "source": [
    "plt.figure(figsize=(10,5))\n",
    "plt.scatter(x=x, y=y, label=\"Beobachtungen\")\n",
    "line_predictions = plt.plot(x, np.full((1,100), df[\"y\"].mean())[0], \"-\", color=\"red\", label=\"Vorhersage\")\n",
    "plt.legend(loc=\"lower left\")\n",
    "plt.xlabel(\"X\")\n",
    "plt.ylabel(\"Y\")"
   ]
  },
  {
   "attachments": {},
   "cell_type": "markdown",
   "metadata": {},
   "source": [
    "Create the GTB model"
   ]
  },
  {
   "cell_type": "code",
   "execution_count": 54,
   "metadata": {},
   "outputs": [
    {
     "data": {
      "text/plain": [
       "0.10002431331091155"
      ]
     },
     "execution_count": 54,
     "metadata": {},
     "output_type": "execute_result"
    }
   ],
   "source": [
    "# reshape data to fit for sklearn GTB Regressor\n",
    "X_train = np.array(x).reshape(-1, 1)\n",
    "Y_train = np.array(y)\n",
    "\n",
    "# train GTB Regressor\n",
    "model = GradientBoostingRegressor(learning_rate=0.1, max_depth=1, n_estimators=2)\n",
    "model.fit(X_train, Y_train)\n",
    "\n",
    "y_pred = model.predict(X_train) # make predictions\n",
    "model.score(X_train, Y_train) # return accuracy score"
   ]
  },
  {
   "attachments": {},
   "cell_type": "markdown",
   "metadata": {},
   "source": [
    "Visualize the first regression model inside the GTB model"
   ]
  },
  {
   "cell_type": "code",
   "execution_count": 55,
   "metadata": {},
   "outputs": [
    {
     "data": {
      "image/png": "[encoded data removed]",
      "text/plain": [
       "<IPython.core.display.Image object>"
      ]
     },
     "execution_count": 55,
     "metadata": {},
     "output_type": "execute_result"
    }
   ],
   "source": [
    "tree = model.estimators_[0,0] # change first 0 to any number m to get the regression model m \n",
    "from pydotplus import graph_from_dot_data\n",
    "from IPython.display import Image\n",
    "from sklearn.tree import export_graphviz\n",
    "\n",
    "dot_data = export_graphviz(\n",
    "    tree,\n",
    "    out_file=None, filled=True, rounded=True,\n",
    "    special_characters=True,\n",
    "    proportion=False, impurity=False\n",
    ")\n",
    "graph = graph_from_dot_data(dot_data)\n",
    "Image(graph.create_png())"
   ]
  },
  {
   "attachments": {},
   "cell_type": "markdown",
   "metadata": {},
   "source": [
    "Visualize the current prediction function on dataset"
   ]
  },
  {
   "cell_type": "code",
   "execution_count": 56,
   "metadata": {},
   "outputs": [
    {
     "data": {
      "text/plain": [
       "Text(0, 0.5, 'Y')"
      ]
     },
     "execution_count": 56,
     "metadata": {},
     "output_type": "execute_result"
    },
    {
     "data": {
      "image/png": "[encoded data removed]",
      "text/plain": [
       "<Figure size 720x360 with 1 Axes>"
      ]
     },
     "metadata": {
      "needs_background": "light"
     },
     "output_type": "display_data"
    }
   ],
   "source": [
    "X_train = X_train.reshape(1,-1)[0] # reshape to fit for visualization\n",
    "plt.figure(figsize=(10,5))\n",
    "plt.scatter(x=X_train, y=Y_train, label=\"Beobachtungen\")\n",
    "line_predictions = plt.plot(X_train, y_pred, \"-\", color=\"red\", label=\"Vorhersage\")\n",
    "plt.legend(loc=\"lower left\")\n",
    "plt.xlabel(\"X\")\n",
    "plt.ylabel(\"Y\")"
   ]
  }
 ],
 "metadata": {
  "kernelspec": {
   "display_name": "Python 3",
   "language": "python",
   "name": "python3"
  },
  "language_info": {
   "codemirror_mode": {
    "name": "ipython",
    "version": 3
   },
   "file_extension": ".py",
   "mimetype": "text/x-python",
   "name": "python",
   "nbconvert_exporter": "python",
   "pygments_lexer": "ipython3",
   "version": "3.10.1 (v3.10.1:2cd268a3a9, Dec  6 2021, 14:28:59) [Clang 13.0.0 (clang-1300.0.29.3)]"
  },
  "orig_nbformat": 4,
  "vscode": {
   "interpreter": {
    "hash": "aee8b7b246df8f9039afb4144a1f6fd8d2ca17a180786b69acc140d282b71a49"
   }
  }
 },
 "nbformat": 4,
 "nbformat_minor": 2
}
